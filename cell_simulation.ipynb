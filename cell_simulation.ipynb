{
 "cells": [
  {
   "cell_type": "markdown",
   "metadata": {},
   "source": [
    "# Simulate living organism competing and in symbiosis"
   ]
  },
  {
   "cell_type": "markdown",
   "metadata": {},
   "source": [
    "We have some cells interacting with each other. There are these rules:\n",
    "\n",
    "1) Every Cell has an energy level. Every time step the energy level decreases (The cell is searching food so it spends energy);\n",
    "    \n",
    "2) Whenever a cell attack another cell there is a chance of killing the other cell depending on the energy level of the attacker and the defender. If a cell manage to kill the other it earn half the energy of the other cell;\n",
    "\n",
    "3) Whenever a cell replicate itself it creates 2 cell with each half the energy level of the original cell;\n",
    "\n",
    "4) Whenever a cell will find a particle of food its energy level will rise.\n",
    "\n",
    "5) Every time step there is a small % two cell start collaborating and the % of finding food will rise.\n",
    "\n",
    "6) Whenever the energy of a cell is 0, the cell dies.\n",
    "\n",
    "7) Every time step there is a small percentage of a cell getting ill (and die, yeah, a small cold will kill them ahah)"
   ]
  },
  {
   "cell_type": "markdown",
   "metadata": {},
   "source": [
    "## Code"
   ]
  },
  {
   "cell_type": "markdown",
   "metadata": {},
   "source": [
    "Importing modules"
   ]
  },
  {
   "cell_type": "code",
   "execution_count": 1,
   "metadata": {},
   "outputs": [],
   "source": [
    "from matplotlib import pyplot as plt\n",
    "import pandas as pd\n",
    "import numpy as np\n",
    "import random"
   ]
  },
  {
   "cell_type": "code",
   "execution_count": 2,
   "metadata": {},
   "outputs": [],
   "source": [
    "# Configure Jupyter so figures appear in the notebook\n",
    "%matplotlib inline"
   ]
  },
  {
   "cell_type": "markdown",
   "metadata": {},
   "source": [
    "Let's simulate a number of cells."
   ]
  },
  {
   "cell_type": "code",
   "execution_count": 3,
   "metadata": {},
   "outputs": [],
   "source": [
    "num_cell = 10"
   ]
  },
  {
   "cell_type": "markdown",
   "metadata": {},
   "source": [
    "We will create a class to store the attributes of the cell.\n",
    "Every cell has an energy level. The default value is 10. When the energy level reaches 0 the cell dies. "
   ]
  },
  {
   "cell_type": "code",
   "execution_count": 4,
   "metadata": {},
   "outputs": [],
   "source": [
    "class Cell():\n",
    "    def __init__(self, energy):\n",
    "        self.e = energy        "
   ]
  },
  {
   "cell_type": "markdown",
   "metadata": {},
   "source": [
    "Let's now append the cells into a list."
   ]
  },
  {
   "cell_type": "code",
   "execution_count": 5,
   "metadata": {},
   "outputs": [],
   "source": [
    "cell_array = []\n",
    "\n",
    "for i in range(num_cell): #Append the cells in an array\n",
    "    energy_level = 10\n",
    "    cell = Cell(energy_level)\n",
    "    cell_array.append(cell)"
   ]
  },
  {
   "cell_type": "markdown",
   "metadata": {},
   "source": [
    "We need a function to generate weighted random numbers."
   ]
  },
  {
   "cell_type": "code",
   "execution_count": 6,
   "metadata": {},
   "outputs": [],
   "source": [
    "def random_chance(p):\n",
    "    \"\"\"\n",
    "    Return True or False with weighted chances\n",
    "    p: chance of returning True\n",
    "    return: True or False\n",
    "    \"\"\"\n",
    "    p2 = 100 - p\n",
    "    result = random.choices([True, False], weights=(p, p2), k=1)\n",
    "    return result[0]"
   ]
  },
  {
   "cell_type": "markdown",
   "metadata": {},
   "source": [
    "Now we will define a function that update every time step the energy level of the cells. (The cells are walking around doing their stuff, so they consume energy)."
   ]
  },
  {
   "cell_type": "code",
   "execution_count": 7,
   "metadata": {},
   "outputs": [],
   "source": [
    "def normal_loss(): #Normal loss of energy (1 e/step) and probabilty of illness\n",
    "    for cell in cell_array:\n",
    "        if random_chance(10) == True: #10% chance of illness\n",
    "            cell.e -= 3  #The cell loses more energy due to the illness\n",
    "        else:\n",
    "            cell.e -= 1 #Normal loss"
   ]
  },
  {
   "cell_type": "markdown",
   "metadata": {},
   "source": [
    "Another useful function is the one responsible for the food search."
   ]
  },
  {
   "cell_type": "code",
   "execution_count": 8,
   "metadata": {},
   "outputs": [],
   "source": [
    "def food_search(): #Every time step there is a 30% chance of finding food (energy)\n",
    "    for cell in cell_array:\n",
    "        if random_chance(10) == True: #return true 10% of the times\n",
    "            cell.e += 3"
   ]
  },
  {
   "cell_type": "markdown",
   "metadata": {},
   "source": [
    "Some cells decided that they are not into food search, so turned to attacking other cells and eat them (sorry little cells.). Let's integrate this into a function."
   ]
  },
  {
   "cell_type": "code",
   "execution_count": 9,
   "metadata": {},
   "outputs": [],
   "source": [
    "def attack(): #Casually pick 2 cells and let the fight begin\n",
    "    \n",
    "    if random_chance(30):#30% chance of a cell attacking another one\n",
    "        if (len(cell_array) > 2):\n",
    "            index = [i for i in range(len(cell_array))] #List containing all the index of the cells\n",
    "            fighters = random.sample(index, 2) #Index of fitghers\n",
    "            energy = cell_array[fighters[1]].e #Energy of defender (def always lose)\n",
    "            cell_array[fighters[1]].e = 0\n",
    "            cell_array[fighters[0]].e += (energy / 2) #Attacker earn half the energy of the defender\n",
    "            \n",
    "        elif (len(cell_array) == 2): #Otherwise let's handle this differently because under 2 cells random.sample will fail\n",
    "            energy = cell_array[1].e #defender\n",
    "            cell_array[1].e = 0\n",
    "            cell_array[0].e += (energy / 2)\n",
    "            \n",
    "    \n",
    "    "
   ]
  },
  {
   "cell_type": "markdown",
   "metadata": {},
   "source": [
    "Cells also have the ability to reproduce, so let's give them this opportunity."
   ]
  },
  {
   "cell_type": "code",
   "execution_count": 10,
   "metadata": {},
   "outputs": [],
   "source": [
    "def reproduce():\n",
    "    for cell in cell_array: #Every time step there is a 5% chance of reproduction\n",
    "        if random_chance(5) == True:\n",
    "            energy = cell.e\n",
    "            cell.e = 0 #Let's kill the parent\n",
    "            child_energy = energy / 2 #The energy of the child is half of the parent\n",
    "            child = Cell(child_energy)\n",
    "            cell_array.append(child)\n",
    "            cell_array.append(child) #From one cell, two new born cells\n",
    "        \n",
    "    "
   ]
  },
  {
   "cell_type": "markdown",
   "metadata": {},
   "source": [
    "Let's define a function that \"Kills\" every cell that has ran out of energy."
   ]
  },
  {
   "cell_type": "code",
   "execution_count": 11,
   "metadata": {},
   "outputs": [],
   "source": [
    "def kill(): #Remove the cells with 0 energy\n",
    "    global cell_array #Refer to the global varible containing the list of cells\n",
    "    cell_array = [cell for cell in cell_array if cell.e > 0] #Update the array removing died cells"
   ]
  },
  {
   "cell_type": "markdown",
   "metadata": {},
   "source": [
    "Now we will integrate all the functions in a *step* function."
   ]
  },
  {
   "cell_type": "code",
   "execution_count": 12,
   "metadata": {},
   "outputs": [],
   "source": [
    "def step():\n",
    "    kill()\n",
    "    normal_loss()\n",
    "    food_search()\n",
    "    reproduce()\n",
    "    attack()\n",
    "    "
   ]
  },
  {
   "cell_type": "markdown",
   "metadata": {},
   "source": [
    "We will now create some lists to store information about our system:"
   ]
  },
  {
   "cell_type": "code",
   "execution_count": 13,
   "metadata": {},
   "outputs": [],
   "source": [
    "system_energy = [] #List containing a list of the energy level of every cell \n",
    "# for every timestep(bidimensional list)"
   ]
  },
  {
   "cell_type": "markdown",
   "metadata": {},
   "source": [
    "Now it's time for the simulation!"
   ]
  },
  {
   "cell_type": "code",
   "execution_count": 14,
   "metadata": {},
   "outputs": [],
   "source": [
    "num_step = 30 #Duration of simulation\n",
    "def simulate():\n",
    "    for i in range(num_step):\n",
    "        step()\n",
    "        en_level = [] #Energy level of every cell for this time step\n",
    "        for i in range(len(cell_array)):\n",
    "            en = cell_array[i].e\n",
    "            en_level.append(en)\n",
    "        system_energy.append(en_level)"
   ]
  },
  {
   "cell_type": "markdown",
   "metadata": {},
   "source": [
    "Let's run the simulation:"
   ]
  },
  {
   "cell_type": "code",
   "execution_count": 15,
   "metadata": {},
   "outputs": [],
   "source": [
    "simulate()"
   ]
  },
  {
   "cell_type": "markdown",
   "metadata": {},
   "source": [
    "Now we will create a useful Numpy array and try to get some information from it."
   ]
  },
  {
   "cell_type": "code",
   "execution_count": 16,
   "metadata": {},
   "outputs": [],
   "source": [
    "system = np.array(system_energy)\n",
    "\n",
    "live_cells = [len(elem) for elem in system] #Population (number of live cells)\n",
    "time_steps = [i for i in range(len(live_cells))] #Time steps"
   ]
  },
  {
   "cell_type": "markdown",
   "metadata": {},
   "source": [
    "It's now interesting to plot the number of cells."
   ]
  },
  {
   "cell_type": "code",
   "execution_count": 17,
   "metadata": {},
   "outputs": [
    {
     "data": {
      "image/png": "[encoded data removed]",
      "text/plain": [
       "<Figure size 432x288 with 1 Axes>"
      ]
     },
     "metadata": {
      "needs_background": "light"
     },
     "output_type": "display_data"
    }
   ],
   "source": [
    "plt.plot(time_steps, live_cells) #Cells population over time\n",
    "plt.title(\"Population of cells\")\n",
    "plt.xlabel(\"Time step\")\n",
    "plt.ylabel(\"Number of live cells\")\n",
    "plt.show()"
   ]
  },
  {
   "cell_type": "markdown",
   "metadata": {},
   "source": [
    "We will store the data in a Pandas datatype called DataFrame in case we need to show all the records. (Here we have the energy level of a cell for every Time step. When the cell dies a \"NaN\" shows up in the table)."
   ]
  },
  {
   "cell_type": "code",
   "execution_count": 18,
   "metadata": {},
   "outputs": [],
   "source": [
    "data = pd.DataFrame(system_energy)\n",
    "#Uncomment the following line to display the table with the energy level of every cell for every timestep\n",
    "#data "
   ]
  }
 ],
 "metadata": {
  "kernelspec": {
   "display_name": "firstEnv",
   "language": "python",
   "name": "firstenv"
  },
  "language_info": {
   "codemirror_mode": {
    "name": "ipython",
    "version": 3
   },
   "file_extension": ".py",
   "mimetype": "text/x-python",
   "name": "python",
   "nbconvert_exporter": "python",
   "pygments_lexer": "ipython3",
   "version": "3.8.3"
  }
 },
 "nbformat": 4,
 "nbformat_minor": 4
}
